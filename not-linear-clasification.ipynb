{
  "cells": [
    {
      "cell_type": "markdown",
      "metadata": {
        "id": "Yp4CHtKE0sHs"
      },
      "source": [
        "# Red Neuronal para Clasificación no Lineal"
      ]
    },
    {
      "cell_type": "code",
      "execution_count": 286,
      "metadata": {
        "id": "aKv_CvMl0sHw"
      },
      "outputs": [],
      "source": [
        "from __future__ import print_function\n",
        "import numpy as np\n",
        "import matplotlib.pyplot as plt\n",
        "\n",
        "%matplotlib inline"
      ]
    },
    {
      "cell_type": "markdown",
      "metadata": {
        "id": "hMe3Oo7o0sHy"
      },
      "source": [
        "Cree los datos de entrada y salida para una compuerta XOR:"
      ]
    },
    {
      "cell_type": "code",
      "execution_count": 287,
      "metadata": {
        "id": "mJBfasb80sHy"
      },
      "outputs": [],
      "source": [
        "x = np.array([[0, 0], [0, 1], [1, 0], [1, 1]])\n",
        "y = np.array([0,1,1,0])"
      ]
    },
    {
      "cell_type": "markdown",
      "metadata": {
        "id": "dhMWkWg90sHz"
      },
      "source": [
        "Para una red neuronal con dos neuronas en la capa de entrada, tres en la capa escondidad y una en la salida, inicialize los pesos y sesgos:"
      ]
    },
    {
      "cell_type": "code",
      "execution_count": 288,
      "metadata": {
        "id": "JmVPSzCZ0sHz"
      },
      "outputs": [],
      "source": [
        "# Inicialización de los pesos y sesgos\n",
        "w1 = 2 * np.random.randn(2, 3)  # Pesos de la capa de entrada a capa intermedia\n",
        "w2 = 2 * np.random.randn(3, 1)  # Pesos de la capa intermedia a capa de salida\n",
        "b1 = np.zeros((1, 3)) + 1   # Sesgos capa intermedia\n",
        "b2 = np.zeros((1, 1)) + 1   # Sesgo capa de salida\n"
      ]
    },
    {
      "cell_type": "markdown",
      "metadata": {
        "id": "EVliVbFJ0sHz"
      },
      "source": [
        "Defina la función de activación y su derivada:"
      ]
    },
    {
      "cell_type": "code",
      "execution_count": 289,
      "metadata": {
        "id": "eYCmmm6s0sHz"
      },
      "outputs": [],
      "source": [
        "def sigmoid(x):\n",
        "    return 1 / ( 1 + np.exp(-(x)))\n",
        "\n",
        "def dsigmoid(y):\n",
        "    return sigmoid(y)*(1 - sigmoid(y))"
      ]
    },
    {
      "cell_type": "markdown",
      "metadata": {
        "id": "_MGS4cwh0sH0"
      },
      "source": [
        "## Forward pass"
      ]
    },
    {
      "cell_type": "code",
      "execution_count": 290,
      "metadata": {
        "id": "eAcqoXUZ0sH0"
      },
      "outputs": [],
      "source": [
        "\n",
        "Neth = np.dot(x, w1) + b1  # Salida capa intermedia\n",
        "Outh = sigmoid(Neth)\n",
        "NetO = np.dot(Outh, w2) + b2  # Salida capa de salida\n",
        "OutO = sigmoid(NetO)"
      ]
    },
    {
      "cell_type": "markdown",
      "metadata": {
        "id": "M-UP_w6Z0sH0"
      },
      "source": [
        "## Backward pass"
      ]
    },
    {
      "cell_type": "markdown",
      "metadata": {
        "id": "omY9iL4J0sH1"
      },
      "source": [
        "Implemente las derivadas del error respecto a los parámetros w y b:"
      ]
    },
    {
      "cell_type": "code",
      "execution_count": 291,
      "metadata": {
        "id": "oncK4gxS0sH1"
      },
      "outputs": [],
      "source": [
        "# Cálculo del error\n",
        "error = y.reshape(-1, 1) - np.apply_along_axis(lambda x: [1] if x > 0.5 else [0] , 1, OutO)\n",
        "\n",
        "d_salida = error * dsigmoid(OutO)\n",
        "d_oculta = np.dot(d_salida, w2.T) * dsigmoid(Outh)"
      ]
    },
    {
      "cell_type": "markdown",
      "metadata": {
        "id": "59Fi5TML0sH1"
      },
      "source": [
        "Implemente la correción de los parámetros:"
      ]
    },
    {
      "cell_type": "code",
      "execution_count": 292,
      "metadata": {
        "id": "P2Vj5moC0sH1"
      },
      "outputs": [],
      "source": [
        "\n",
        "lr = 0.1 # factor de aprendizaje\n",
        "\n",
        "# Actualización de pesos y sesgos\n",
        "w2 += lr * np.dot(Outh.T, d_salida)\n",
        "b2 += lr * np.sum(d_salida, axis=0, keepdims=True)\n",
        "w1 += lr * np.dot(x.T, d_oculta)\n",
        "b1 += lr * np.sum(d_oculta, axis=0, keepdims=True)"
      ]
    },
    {
      "cell_type": "markdown",
      "metadata": {
        "id": "rcCBWtsY0sH1"
      },
      "source": [
        "## Entrenamiento de la red neuronal"
      ]
    },
    {
      "cell_type": "markdown",
      "metadata": {
        "id": "9I9pOeOA0sH1"
      },
      "source": [
        "Use el esquema de \"Retropropagación\" para entrenar la red."
      ]
    },
    {
      "cell_type": "code",
      "execution_count": 293,
      "metadata": {
        "id": "dN4C0oUW0sH1"
      },
      "outputs": [],
      "source": [
        "# Implementación de la retropropagación\n",
        "\n",
        "epocas = 50000\n",
        "x_epoca = []\n",
        "y_error = []\n",
        "\n",
        "for epoca in range(epocas):\n",
        "    # Feedforward\n",
        "    Outh = sigmoid(np.dot(x, w1) + b1)  # Salida capa intermedia\n",
        "    OutO = sigmoid(np.dot(Outh, w2) + b2)  # Salida capa de salida\n",
        "\n",
        "    error = y.reshape(-1, 1) - OutO\n",
        "    #np.apply_along_axis(lambda x: [1] if x > 0.5 else [0] , 1, OutO)\n",
        "\n",
        "    if epoca % 100 == 0:\n",
        "        e = np.mean(np.abs(error))\n",
        "        #print(\"Iteración:\", epoca, \"Error:\", e)\n",
        "        x_epoca.append(epoca)\n",
        "        y_error.append(e)\n",
        "\n",
        "    d_salida = error * dsigmoid(OutO)\n",
        "    d_oculta = np.dot(d_salida, w2.T) * dsigmoid(Outh)\n",
        "\n",
        "    w2 += lr * np.dot(Outh.T, d_salida)\n",
        "    b2 += lr * np.sum(d_salida, axis=0, keepdims=True)\n",
        "    w1 += lr * np.dot(x.T, d_oculta)\n",
        "    b1 += lr * np.sum(d_oculta, axis=0, keepdims=True)\n",
        "\n",
        "    if e < 0.01:\n",
        "     break\n",
        "\n"
      ]
    },
    {
      "cell_type": "markdown",
      "metadata": {
        "id": "KD_xejp50sH2"
      },
      "source": [
        "Valide del entrenamiento. Con una gráfica del error en funcion de las épocas."
      ]
    },
    {
      "cell_type": "code",
      "execution_count": 294,
      "metadata": {
        "colab": {
          "base_uri": "https://localhost:8080/",
          "height": 504
        },
        "id": "dn72KYzc0sH2",
        "outputId": "0a0fc84b-14a2-4b67-e987-3ef02293ddbb"
      },
      "outputs": [
        {
          "output_type": "display_data",
          "data": {
            "text/plain": [
              "<Figure size 640x480 with 1 Axes>"
            ],
            "image/png": "[encoded data removed]"
          },
          "metadata": {}
        },
        {
          "output_type": "stream",
          "name": "stdout",
          "text": [
            "Salida de la red neuronal:\n",
            "[0.02667102 0.96905737 0.96928731 0.02225857]\n",
            "salida por hiviside:\n",
            "[0 1 1 0]\n"
          ]
        }
      ],
      "source": [
        "# Gráfica Error vs. Épocas\n",
        "plt.plot(x_epoca,y_error)\n",
        "plt.show()\n",
        "\n",
        "test_input = x\n",
        "hidden_layer_output = sigmoid(np.dot(test_input, w1) + b1)\n",
        "predicted_output = sigmoid(np.dot(hidden_layer_output, w2) + b2)\n",
        "\n",
        "print(\"Salida de la red neuronal:\")\n",
        "print(predicted_output.flatten())\n",
        "print(\"salida por hiviside:\")\n",
        "print(np.apply_along_axis(lambda x: 1 if x > 0.5 else 0 , 1, predicted_output))"
      ]
    }
  ],
  "metadata": {
    "kernelspec": {
      "display_name": "Python 3",
      "language": "python",
      "name": "python3"
    },
    "language_info": {
      "codemirror_mode": {
        "name": "ipython",
        "version": 3
      },
      "file_extension": ".py",
      "mimetype": "text/x-python",
      "name": "python",
      "nbconvert_exporter": "python",
      "pygments_lexer": "ipython3",
      "version": "3.11.5"
    },
    "colab": {
      "provenance": []
    }
  },
  "nbformat": 4,
  "nbformat_minor": 0
}