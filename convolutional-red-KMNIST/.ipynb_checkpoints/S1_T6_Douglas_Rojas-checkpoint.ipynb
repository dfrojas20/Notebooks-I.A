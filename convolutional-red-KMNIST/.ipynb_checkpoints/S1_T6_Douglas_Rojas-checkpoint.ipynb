{
 "cells": [
  {
   "cell_type": "markdown",
   "metadata": {
    "id": "8i_s-mJ_L155"
   },
   "source": [
    "###### Proyecto 6: VISION ARTIFICIAL CON REDES CONVOLUCIONALES.\n",
    "\n",
    "1. Implemente una red neuronal convolucional, para clasificar imagenes del conjunto de datos kmnist.\n",
    "\n",
    "2. Librerias necesarias:"
   ]
  },
  {
   "cell_type": "code",
   "execution_count": 1,
   "metadata": {
    "id": "hAiF_wK6L159"
   },
   "outputs": [],
   "source": [
    "import numpy as np\n",
    "from keras.models import Sequential\n",
    "from keras.layers import Conv2D, MaxPooling2D, Flatten, Dense, Dropout\n",
    "from keras.datasets import mnist\n",
    "from keras.utils import to_categorical\n",
    "import matplotlib.pyplot as plt"
   ]
  },
  {
   "cell_type": "markdown",
   "metadata": {
    "id": "bvkx1GzcL15_"
   },
   "source": [
    "3. Descargamos la data kmnist de keras\n",
    "\n",
    "Mnist es una base de datos que contiene imágenes de digitos desde el 0 hasta el 9 de 28x28 píxeles en escala de grises.El conjunto posee 60.000 imagenes de entrenamiento y otras 10.000 para prueba\n",
    "Referencia: https://keras.io/api/datasets/mnist/"
   ]
  },
  {
   "cell_type": "code",
   "execution_count": 2,
   "metadata": {
    "colab": {
     "base_uri": "https://localhost:8080/",
     "height": 499
    },
    "id": "YXTnfiZoL15_",
    "outputId": "15405cf3-894f-4597-fe49-e1608dfc0233"
   },
   "outputs": [
    {
     "name": "stdout",
     "output_type": "stream",
     "text": [
      "Cantidad de datos de entrenamiento:  60000\n",
      "Cantidad de datos de testeo:  10000\n",
      "dimension del dato:  (28, 28)\n",
      "\n"
     ]
    },
    {
     "data": {
      "image/png": "[encoded data removed]",
      "text/plain": [
       "<Figure size 640x480 with 1 Axes>"
      ]
     },
     "metadata": {},
     "output_type": "display_data"
    }
   ],
   "source": [
    "# Cargamos el conjunto de datos MNIST\n",
    "#(x_train, y_train), (x_test, y_test) = mnist.load_data()\n",
    "#print(\"Cantidad de datos de entrenamiento: \", x_train.__len__())\n",
    "#print(\"Cantidad de datos de testeo: \", x_test.__len__())\n",
    "\n",
    "def load_kmnist():\n",
    "    x_train = np.load('kmnist-train-imgs.npz')['arr_0']\n",
    "    y_train = np.load('kmnist-train-labels.npz')['arr_0']\n",
    "    x_test =  np.load('kmnist-test-imgs.npz')['arr_0']\n",
    "    y_test = np.load('kmnist-test-labels.npz')['arr_0']\n",
    "    \n",
    "    \n",
    "    \n",
    "    return (x_train, y_train), (x_test, y_test)\n",
    "\n",
    "(x_train, y_train), (x_test, y_test) = load_kmnist()\n",
    "print(\"Cantidad de datos de entrenamiento: \", x_train.__len__())\n",
    "print(\"Cantidad de datos de testeo: \", x_test.__len__())\n",
    "# Mostramos un ejemplo\n",
    "plt.imshow(x_train[4])\n",
    "\n",
    "print(\"dimension del dato: \",x_train[1].shape)\n",
    "print(\"\")"
   ]
  },
  {
   "cell_type": "markdown",
   "metadata": {
    "id": "5Mxq8ElTL16A"
   },
   "source": [
    "4. Preprocesamos los datos\n",
    "    1. primero normalizaremos los datos.Como estan en escala de grises (0 - 255) dividiremos cada casilla entre 255 para transformar cada numero en un valor entre 0 y 1\n",
    "\n",
    "    2. Aplicaremos reshape para establecer cada dato en dimension 28x28 adicionalmente indicando 1 para indicar que el canal es escala de grises\n",
    "    \n",
    "    3. las etiquetas las convertiremos en un vector de 10 casillas donde la posicion de la casilla que tenga el 1 representara el valor. la etiqueta 1 sera igual a [0,1,0,0,0,0,0,0,0,0]"
   ]
  },
  {
   "cell_type": "code",
   "execution_count": 3,
   "metadata": {
    "id": "9Jnktoq_L16A"
   },
   "outputs": [],
   "source": [
    "# Normalizar y reformatear los datos\n",
    "x_train = x_train.reshape((-1, 28, 28, 1)).astype('float32') / 255.0\n",
    "x_test = x_test.reshape((-1, 28, 28, 1)).astype('float32') / 255.0\n",
    "\n",
    "# Convertir las etiquetas a one-hot encoding\n",
    "y_train = to_categorical(y_train, 10)\n",
    "y_test = to_categorical(y_test, 10)"
   ]
  },
  {
   "cell_type": "markdown",
   "metadata": {
    "id": "bB5TVFqUL16B"
   },
   "source": [
    "5. Contruimos el modelo\n",
    "    1. Creamos 2 capas convolucionales con funcion de activacion relu para extraer caracteristicas importantes de las imagenes, la primera tendra 32 filtros cada uno de 3x3 y la segunda tendra\n",
    "    64 filtros de 3x3, se colocaron mas filtros en la segunda para que haya jerarquia de caracteristicas, asi hacemos que la primera capa distinga caracteristicas basicas de la imagen y\n",
    "    la segunda capa caracteristicas mas complejas.\n",
    "\n",
    "    2. Creamos 2 capas de maxpoling de agrupacion para reducir dimensionalidad y conservar caracteristicas importantes, se deja el valor por default que es 2x2.\n",
    "\n",
    "    3. Aplanamos la salida con una capa flatten para convertirla en un vector unidimensional\n",
    "\n",
    "    4. Ese vector unidemnsional lo podemos pasar a una capa densa de 128 neuronas para efectuar la clasificacion lineal. Se elige relu para introducir no linealidad\n",
    "\n",
    "    5. creamos otra capa densa con 10 neuronas que correspondera a la salia del modelo. Se usa softmax para obtener la probabilidad de que pertenezca a una clase"
   ]
  },
  {
   "cell_type": "code",
   "execution_count": 10,
   "metadata": {
    "colab": {
     "base_uri": "https://localhost:8080/"
    },
    "id": "MmqaAfwuL16C",
    "outputId": "6806539f-1f24-4f7f-eac6-40daae08142b"
   },
   "outputs": [
    {
     "name": "stdout",
     "output_type": "stream",
     "text": [
      "Model: \"sequential_1\"\n",
      "_________________________________________________________________\n",
      " Layer (type)                Output Shape              Param #   \n",
      "=================================================================\n",
      " conv2d_2 (Conv2D)           (None, 26, 26, 32)        320       \n",
      "                                                                 \n",
      " max_pooling2d_2 (MaxPoolin  (None, 13, 13, 32)        0         \n",
      " g2D)                                                            \n",
      "                                                                 \n",
      " conv2d_3 (Conv2D)           (None, 11, 11, 64)        18496     \n",
      "                                                                 \n",
      " max_pooling2d_3 (MaxPoolin  (None, 5, 5, 64)          0         \n",
      " g2D)                                                            \n",
      "                                                                 \n",
      " dropout_1 (Dropout)         (None, 5, 5, 64)          0         \n",
      "                                                                 \n",
      " flatten_1 (Flatten)         (None, 1600)              0         \n",
      "                                                                 \n",
      " dense_2 (Dense)             (None, 128)               204928    \n",
      "                                                                 \n",
      " dense_3 (Dense)             (None, 10)                1290      \n",
      "                                                                 \n",
      "=================================================================\n",
      "Total params: 225034 (879.04 KB)\n",
      "Trainable params: 225034 (879.04 KB)\n",
      "Non-trainable params: 0 (0.00 Byte)\n",
      "_________________________________________________________________\n"
     ]
    }
   ],
   "source": [
    "# Construir el modelo de red neuronal convolucional\n",
    "\n",
    "model = Sequential()\n",
    "model.add(Conv2D(32, (3, 3), activation='relu', input_shape=(28, 28, 1)))\n",
    "model.add(MaxPooling2D((2, 2)))\n",
    "model.add(Conv2D(64, (3, 3), activation='relu'))\n",
    "model.add(MaxPooling2D((2, 2)))\n",
    "model.add(Dropout(0.5))\n",
    "model.add(Flatten())\n",
    "model.add(Dense(128, activation='relu'))\n",
    "model.add(Dense(10, activation='softmax'))\n",
    "\n",
    "model.summary()"
   ]
  },
  {
   "cell_type": "markdown",
   "metadata": {
    "id": "H1DqW6SzL16D"
   },
   "source": [
    "6.  Compilamos el modelo.\n",
    "\n",
    "Elegimos como optimizador Adam, como funcion de error usamos categorial_cossentropy que funciona bien contra problemas de clasificacion multiclase y como metrica elegimos la presicion"
   ]
  },
  {
   "cell_type": "code",
   "execution_count": 11,
   "metadata": {
    "id": "HdSYlOwBL16D"
   },
   "outputs": [],
   "source": [
    "optimizer = 'adam'\n",
    "loss = 'categorical_crossentropy'\n",
    "metrics = ['accuracy']\n",
    "\n",
    "model.compile(optimizer=optimizer, loss=loss, metrics=metrics)"
   ]
  },
  {
   "cell_type": "markdown",
   "metadata": {
    "id": "qZf0-rT2L16E"
   },
   "source": [
    "7. Definimos el esquema de entrenamiento.\n",
    "\n",
    "Probaremos con 5 epocas, un batch_size de 64 para evitar memorizacion del modelo y un split de 0.2 para mas aletoriedad en lo datos"
   ]
  },
  {
   "cell_type": "code",
   "execution_count": 13,
   "metadata": {
    "colab": {
     "base_uri": "https://localhost:8080/"
    },
    "id": "i4x4QjEgL16E",
    "outputId": "5a6c2669-06b9-421f-8298-d68e54a80d36"
   },
   "outputs": [
    {
     "name": "stdout",
     "output_type": "stream",
     "text": [
      "Epoch 1/10\n",
      "750/750 [==============================] - 10s 14ms/step - loss: 0.0548 - accuracy: 0.9824 - val_loss: 0.0576 - val_accuracy: 0.9830\n",
      "Epoch 2/10\n",
      "750/750 [==============================] - 10s 13ms/step - loss: 0.0476 - accuracy: 0.9842 - val_loss: 0.0572 - val_accuracy: 0.9828\n",
      "Epoch 3/10\n",
      "750/750 [==============================] - 10s 14ms/step - loss: 0.0430 - accuracy: 0.9858 - val_loss: 0.0586 - val_accuracy: 0.9827\n",
      "Epoch 4/10\n",
      "750/750 [==============================] - 10s 14ms/step - loss: 0.0373 - accuracy: 0.9874 - val_loss: 0.0552 - val_accuracy: 0.9848\n",
      "Epoch 5/10\n",
      "750/750 [==============================] - 10s 14ms/step - loss: 0.0346 - accuracy: 0.9888 - val_loss: 0.0522 - val_accuracy: 0.9851\n",
      "Epoch 6/10\n",
      "750/750 [==============================] - 10s 14ms/step - loss: 0.0318 - accuracy: 0.9891 - val_loss: 0.0517 - val_accuracy: 0.9845\n",
      "Epoch 7/10\n",
      "750/750 [==============================] - 10s 14ms/step - loss: 0.0293 - accuracy: 0.9901 - val_loss: 0.0510 - val_accuracy: 0.9861\n",
      "Epoch 8/10\n",
      "750/750 [==============================] - 10s 14ms/step - loss: 0.0235 - accuracy: 0.9919 - val_loss: 0.0561 - val_accuracy: 0.9852\n",
      "Epoch 9/10\n",
      "750/750 [==============================] - 10s 14ms/step - loss: 0.0271 - accuracy: 0.9908 - val_loss: 0.0539 - val_accuracy: 0.9844\n",
      "Epoch 10/10\n",
      "750/750 [==============================] - 10s 14ms/step - loss: 0.0227 - accuracy: 0.9924 - val_loss: 0.0510 - val_accuracy: 0.9870\n"
     ]
    }
   ],
   "source": [
    "epochs = 10\n",
    "batch_size = 64\n",
    "validation_split = 0.2\n",
    "\n",
    "history = model.fit(x_train, y_train, epochs=epochs, batch_size=batch_size, validation_split=validation_split)"
   ]
  },
  {
   "cell_type": "markdown",
   "metadata": {
    "id": "TAC_3nUFL16E"
   },
   "source": [
    "Evolucion del error durante el entrenamiento"
   ]
  },
  {
   "cell_type": "code",
   "execution_count": 7,
   "metadata": {
    "colab": {
     "base_uri": "https://localhost:8080/",
     "height": 472
    },
    "id": "84qhkqwEL16E",
    "outputId": "4bb32218-463e-4127-fcfa-071961a02027"
   },
   "outputs": [
    {
     "data": {
      "image/png": "[encoded data removed]",
      "text/plain": [
       "<Figure size 640x480 with 1 Axes>"
      ]
     },
     "metadata": {},
     "output_type": "display_data"
    }
   ],
   "source": [
    "# pérdida y la precisión del historial\n",
    "loss = history.history['loss']\n",
    "val_loss = history.history['val_loss']\n",
    "accuracy = history.history['accuracy']\n",
    "val_accuracy = history.history['val_accuracy']\n",
    "\n",
    "# Crear gráfico para la precisión\n",
    "plt.plot(accuracy)\n",
    "plt.title('Presicion del entrenamiento')\n",
    "plt.xlabel('Epoca')\n",
    "plt.ylabel('Presicion')\n",
    "\n",
    "# Mostrar la gráfica\n",
    "plt.show()"
   ]
  },
  {
   "cell_type": "markdown",
   "metadata": {
    "id": "-D839Mv6L16F"
   },
   "source": [
    "8. Probamos el modelo con un dato de prueba."
   ]
  },
  {
   "cell_type": "code",
   "execution_count": 18,
   "metadata": {
    "colab": {
     "base_uri": "https://localhost:8080/",
     "height": 482
    },
    "id": "zZtwI8C_L16F",
    "outputId": "eb436a91-250e-43d5-8802-763d9ec1a2df"
   },
   "outputs": [
    {
     "name": "stdout",
     "output_type": "stream",
     "text": [
      "1/1 [==============================] - 0s 42ms/step\n",
      "Etiqueta predicha: 9\n",
      "\n",
      "Etiqueta real: 9\n",
      "\n"
     ]
    },
    {
     "data": {
      "image/png": "[encoded data removed]",
      "text/plain": [
       "<Figure size 640x480 with 1 Axes>"
      ]
     },
     "metadata": {},
     "output_type": "display_data"
    }
   ],
   "source": [
    "plt.imshow(x_test[1])\n",
    "\n",
    "prediction = model.predict(x_test[1].reshape(1, 28, 28, 1))\n",
    "\n",
    "prediction = np.argmax(prediction)\n",
    "print(f\"Etiqueta predicha: {prediction}\\n\")\n",
    "print(f\"Etiqueta real: {np.argmax(y_test[1])}\\n\")"
   ]
  },
  {
   "cell_type": "markdown",
   "metadata": {},
   "source": [
    "Vemos que predijo correctamente la etiqueta correspondiente"
   ]
  },
  {
   "cell_type": "markdown",
   "metadata": {
    "id": "SVO8CEaEL16G"
   },
   "source": [
    "9. Validamos la red con el conjunto de entrenamiento"
   ]
  },
  {
   "cell_type": "code",
   "execution_count": 9,
   "metadata": {
    "colab": {
     "base_uri": "https://localhost:8080/"
    },
    "id": "v2olwIhPL16G",
    "outputId": "2fb77efa-6e78-4086-8eb6-53fbd15a8ac8"
   },
   "outputs": [
    {
     "name": "stdout",
     "output_type": "stream",
     "text": [
      "313/313 [==============================] - 1s 2ms/step - loss: 0.2083 - accuracy: 0.9394\n",
      "Presicion: 93.94%\n"
     ]
    }
   ],
   "source": [
    "accuracy = model.evaluate(x_test, y_test)[1]\n",
    "print(f'Presicion: {accuracy * 100:.2f}%')"
   ]
  },
  {
   "cell_type": "markdown",
   "metadata": {
    "id": "EvMZCF7XL16H"
   },
   "source": [
    "Podemos ver la presicion de nuestro modelo para la data de entrenamiento es de casi el 94%, por lo cual se puede consederar eficiente para clasificar."
   ]
  }
 ],
 "metadata": {
  "colab": {
   "provenance": []
  },
  "kernelspec": {
   "display_name": "Python 3 (ipykernel)",
   "language": "python",
   "name": "python3"
  },
  "language_info": {
   "codemirror_mode": {
    "name": "ipython",
    "version": 3
   },
   "file_extension": ".py",
   "mimetype": "text/x-python",
   "name": "python",
   "nbconvert_exporter": "python",
   "pygments_lexer": "ipython3",
   "version": "3.11.3"
  }
 },
 "nbformat": 4,
 "nbformat_minor": 1
}
